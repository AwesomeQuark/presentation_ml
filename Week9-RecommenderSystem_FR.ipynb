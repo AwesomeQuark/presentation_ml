{
 "cells": [
  {
   "cell_type": "markdown",
   "metadata": {},
   "source": [
    "# Les systèmes de recommandation\n",
    "\n",
    "\n",
    "Les systèmes de recommandation visent à maximiser la consommation en proposant à l'utilisateur ou consommateur les éléments le plus susceptibles de l'intéresser.\n",
    "Ces systèmes se basent sur caractéristiques des utilisateurs qui se ressemblent pour sa \"prédiction\", on distingue trois méthodes de comparaison pour ce type d'algorithmes :\n",
    "\n",
    "    => Basé sur l'objet lui même, ou \"content-based approach\"\n",
    "    => Basé sur la personne\n",
    "    => Basé sur la société qui l'entoure et ses influences, ou \"Collaborative filtering, context aware\"\n",
    "    => Ou bien basé sur un melange de ces trois donnée, appellé recommandation hybride"
   ]
  },
  {
   "cell_type": "markdown",
   "metadata": {},
   "source": [
    "## Épluchage des données\n",
    "\n",
    "Nous utiliserons les données de l'université du Minnesota (\"MovieLes dataset\"), nous choisirons le dataset de 'seulement' 100 000 évaluations( le dataset total est doté de 20 000 000 d'evaluations, allez voir si vous voulez vous amuser https://grouplens.org/datasets/movielens/)\n",
    "\n",
    "Premierement nous allons charger le fichier \"ratings.csv\""
   ]
  },
  {
   "cell_type": "code",
   "execution_count": null,
   "metadata": {},
   "outputs": [],
   "source": [
    "# Je ne reexplique pas, on commence a connaitre !\n",
    "import pandas as pd\n",
    "import numpy as np\n",
    "import matplotlib.pyplot as plt\n",
    "%matplotlib inline\n",
    "import seaborn as sns"
   ]
  },
  {
   "cell_type": "code",
   "execution_count": null,
   "metadata": {
    "scrolled": true
   },
   "outputs": [],
   "source": [
    "# Chargez le fichier souhaité\n",
    "data = pd.read_csv('data/ratings.csv')"
   ]
  },
  {
   "cell_type": "markdown",
   "metadata": {},
   "source": [
    "Étudions les datas qui nous sont fournies, nous avons 4 colonnes : \n",
    "\n",
    "        L'Id de l'utilisateur\n",
    "        L'Id d'un film vu par l'utilisateur\n",
    "        La note qu'il lui a attribué\n",
    "        Le \"timestamp\", c'est a dire le moment ou il l'a vu"
   ]
  },
  {
   "cell_type": "code",
   "execution_count": null,
   "metadata": {},
   "outputs": [],
   "source": [
    "data.head()"
   ]
  },
  {
   "cell_type": "markdown",
   "metadata": {},
   "source": [
    "Ce serait tout de meme interessant d'avoir les noms des films...<br>\n",
    "Et ils sont disponibles dans le fichier 'Movies.csv', quelle heureuse coincidence !<br>\n",
    "Chargez ce fichier, et utilisez pd.merge() pour fusionner les deux pandas DataFrames sur la colonne qu'ils ont en commun<br>\n",
    "Vous pouvez retirer la colonne \"genres\" si vous le voulez, on ne s'en servira pas ici"
   ]
  },
  {
   "cell_type": "code",
   "execution_count": null,
   "metadata": {},
   "outputs": [],
   "source": [
    "movie_titles = pd.read_csv('data/Movies.csv')\n",
    "data = pd.merge(data, movie_titles, on='movieId')\n",
    "data.head()"
   ]
  },
  {
   "cell_type": "code",
   "execution_count": 90,
   "metadata": {},
   "outputs": [],
   "source": [
    "# Jetons un coup d'oeil aux notations\n",
    "data['rating'].describe()\n",
    "# on normalise\n",
    "data['rating'] = (data['rating'] - data['rating'].mean()) / (data['rating'].max() - data['rating'].min())"
   ]
  },
  {
   "cell_type": "markdown",
   "metadata": {},
   "source": [
    "Nous allons maintenant creer un deuxieme dataframe pour stocker les moyennes de chaque film, pour ce faire utilisez pd.DataFrame()"
   ]
  },
  {
   "cell_type": "code",
   "execution_count": 91,
   "metadata": {},
   "outputs": [
    {
     "data": {
      "text/html": [
       "<div>\n",
       "<style scoped>\n",
       "    .dataframe tbody tr th:only-of-type {\n",
       "        vertical-align: middle;\n",
       "    }\n",
       "\n",
       "    .dataframe tbody tr th {\n",
       "        vertical-align: top;\n",
       "    }\n",
       "\n",
       "    .dataframe thead th {\n",
       "        text-align: right;\n",
       "    }\n",
       "</style>\n",
       "<table border=\"1\" class=\"dataframe\">\n",
       "  <thead>\n",
       "    <tr style=\"text-align: right;\">\n",
       "      <th></th>\n",
       "      <th>rating</th>\n",
       "    </tr>\n",
       "    <tr>\n",
       "      <th>title</th>\n",
       "      <th></th>\n",
       "    </tr>\n",
       "  </thead>\n",
       "  <tbody>\n",
       "    <tr>\n",
       "      <th>'71 (2014)</th>\n",
       "      <td>0.110765</td>\n",
       "    </tr>\n",
       "    <tr>\n",
       "      <th>'Hellboy': The Seeds of Creation (2004)</th>\n",
       "      <td>0.110765</td>\n",
       "    </tr>\n",
       "    <tr>\n",
       "      <th>'Round Midnight (1986)</th>\n",
       "      <td>-0.000346</td>\n",
       "    </tr>\n",
       "    <tr>\n",
       "      <th>'Salem's Lot (2004)</th>\n",
       "      <td>0.332987</td>\n",
       "    </tr>\n",
       "    <tr>\n",
       "      <th>'Til There Was You (1997)</th>\n",
       "      <td>0.110765</td>\n",
       "    </tr>\n",
       "  </tbody>\n",
       "</table>\n",
       "</div>"
      ],
      "text/plain": [
       "                                           rating\n",
       "title                                            \n",
       "'71 (2014)                               0.110765\n",
       "'Hellboy': The Seeds of Creation (2004)  0.110765\n",
       "'Round Midnight (1986)                  -0.000346\n",
       "'Salem's Lot (2004)                      0.332987\n",
       "'Til There Was You (1997)                0.110765"
      ]
     },
     "execution_count": 91,
     "metadata": {},
     "output_type": "execute_result"
    }
   ],
   "source": [
    "ratings = pd.DataFrame(data.groupby('title')['rating'].mean())\n",
    "ratings.head()"
   ]
  },
  {
   "cell_type": "markdown",
   "metadata": {},
   "source": [
    "Nous allons devoir ponderer les avis de chaque film, si un film a 5 etoiles de moyenne mais n'a ete vu que par 2 utilisateurs il faut en prendre compte dans notre algorithme.<br>\n",
    "Créeons une colonne 'number_of_ratings' dans notre dataframe ratings :"
   ]
  },
  {
   "cell_type": "code",
   "execution_count": 92,
   "metadata": {},
   "outputs": [
    {
     "data": {
      "text/html": [
       "<div>\n",
       "<style scoped>\n",
       "    .dataframe tbody tr th:only-of-type {\n",
       "        vertical-align: middle;\n",
       "    }\n",
       "\n",
       "    .dataframe tbody tr th {\n",
       "        vertical-align: top;\n",
       "    }\n",
       "\n",
       "    .dataframe thead th {\n",
       "        text-align: right;\n",
       "    }\n",
       "</style>\n",
       "<table border=\"1\" class=\"dataframe\">\n",
       "  <thead>\n",
       "    <tr style=\"text-align: right;\">\n",
       "      <th></th>\n",
       "      <th>rating</th>\n",
       "      <th>number_of_ratings</th>\n",
       "    </tr>\n",
       "    <tr>\n",
       "      <th>title</th>\n",
       "      <th></th>\n",
       "      <th></th>\n",
       "    </tr>\n",
       "  </thead>\n",
       "  <tbody>\n",
       "    <tr>\n",
       "      <th>'71 (2014)</th>\n",
       "      <td>0.110765</td>\n",
       "      <td>1</td>\n",
       "    </tr>\n",
       "    <tr>\n",
       "      <th>'Hellboy': The Seeds of Creation (2004)</th>\n",
       "      <td>0.110765</td>\n",
       "      <td>1</td>\n",
       "    </tr>\n",
       "    <tr>\n",
       "      <th>'Round Midnight (1986)</th>\n",
       "      <td>-0.000346</td>\n",
       "      <td>2</td>\n",
       "    </tr>\n",
       "    <tr>\n",
       "      <th>'Salem's Lot (2004)</th>\n",
       "      <td>0.332987</td>\n",
       "      <td>1</td>\n",
       "    </tr>\n",
       "    <tr>\n",
       "      <th>'Til There Was You (1997)</th>\n",
       "      <td>0.110765</td>\n",
       "      <td>2</td>\n",
       "    </tr>\n",
       "  </tbody>\n",
       "</table>\n",
       "</div>"
      ],
      "text/plain": [
       "                                           rating  number_of_ratings\n",
       "title                                                               \n",
       "'71 (2014)                               0.110765                  1\n",
       "'Hellboy': The Seeds of Creation (2004)  0.110765                  1\n",
       "'Round Midnight (1986)                  -0.000346                  2\n",
       "'Salem's Lot (2004)                      0.332987                  1\n",
       "'Til There Was You (1997)                0.110765                  2"
      ]
     },
     "execution_count": 92,
     "metadata": {},
     "output_type": "execute_result"
    }
   ],
   "source": [
    "ratings['number_of_ratings'] = data.groupby('title')['rating'].count()\n",
    "ratings.head()"
   ]
  },
  {
   "cell_type": "markdown",
   "metadata": {},
   "source": [
    "Etudions un peu nos données :"
   ]
  },
  {
   "cell_type": "code",
   "execution_count": 93,
   "metadata": {},
   "outputs": [
    {
     "data": {
      "text/plain": [
       "<matplotlib.axes._subplots.AxesSubplot at 0x1a176c83c8>"
      ]
     },
     "execution_count": 93,
     "metadata": {},
     "output_type": "execute_result"
    },
    {
     "data": {
      "image/png": "[encoded data removed]",
      "text/plain": [
       "<Figure size 432x288 with 1 Axes>"
      ]
     },
     "metadata": {
      "needs_background": "light"
     },
     "output_type": "display_data"
    }
   ],
   "source": [
    "# Visualisons la distribution des avis\n",
    "ratings['rating'].hist(bins=50)"
   ]
  },
  {
   "cell_type": "code",
   "execution_count": 94,
   "metadata": {},
   "outputs": [
    {
     "data": {
      "text/plain": [
       "<matplotlib.axes._subplots.AxesSubplot at 0x1a1b403438>"
      ]
     },
     "execution_count": 94,
     "metadata": {},
     "output_type": "execute_result"
    },
    {
     "data": {
      "image/png": "[encoded data removed]",
      "text/plain": [
       "<Figure size 432x288 with 1 Axes>"
      ]
     },
     "metadata": {
      "needs_background": "light"
     },
     "output_type": "display_data"
    }
   ],
   "source": [
    "# Puis la ponderation qui lui est associée\n",
    "ratings['number_of_ratings'].hist(bins=60)"
   ]
  },
  {
   "cell_type": "code",
   "execution_count": 95,
   "metadata": {},
   "outputs": [
    {
     "data": {
      "text/plain": [
       "<seaborn.axisgrid.JointGrid at 0x1a1b3f6d30>"
      ]
     },
     "execution_count": 95,
     "metadata": {},
     "output_type": "execute_result"
    },
    {
     "data": {
      "image/png": "[encoded data removed]",
      "text/plain": [
       "<Figure size 432x432 with 3 Axes>"
      ]
     },
     "metadata": {
      "needs_background": "light"
     },
     "output_type": "display_data"
    }
   ],
   "source": [
    "# Et enfin un graph combinant les deux\n",
    "sns.jointplot(x='rating', y='number_of_ratings', data=ratings)"
   ]
  },
  {
   "cell_type": "markdown",
   "metadata": {},
   "source": [
    "Comme vous pouvez le voir, peu de films ont réellement suffisament d'évaluations pour être considéré comme statistiquement valable.<br>\n",
    "Nous devrons donc retirer les donnée trop peu fiables de notre data set."
   ]
  },
  {
   "cell_type": "markdown",
   "metadata": {},
   "source": [
    "## Mise en place d'un systeme de recommandation basique"
   ]
  },
  {
   "cell_type": "markdown",
   "metadata": {},
   "source": [
    "Commençons par creer une matrice, avec comme colonnes les noms des films, l'UserId en index et les évaluations en valeurs.<br>\n",
    "Vous allez avoir beacoup de NaN, c'est normal (Les utilisateurs individuellement, n'ont vus que peu des films)<br>\n",
    "<br>\n",
    "Utilisez la méthode DataFrame.pivot_table() !\n"
   ]
  },
  {
   "cell_type": "code",
   "execution_count": 96,
   "metadata": {},
   "outputs": [
    {
     "data": {
      "text/html": [
       "<div>\n",
       "<style scoped>\n",
       "    .dataframe tbody tr th:only-of-type {\n",
       "        vertical-align: middle;\n",
       "    }\n",
       "\n",
       "    .dataframe tbody tr th {\n",
       "        vertical-align: top;\n",
       "    }\n",
       "\n",
       "    .dataframe thead th {\n",
       "        text-align: right;\n",
       "    }\n",
       "</style>\n",
       "<table border=\"1\" class=\"dataframe\">\n",
       "  <thead>\n",
       "    <tr style=\"text-align: right;\">\n",
       "      <th>title</th>\n",
       "      <th>'71 (2014)</th>\n",
       "      <th>'Hellboy': The Seeds of Creation (2004)</th>\n",
       "      <th>'Round Midnight (1986)</th>\n",
       "      <th>'Salem's Lot (2004)</th>\n",
       "      <th>'Til There Was You (1997)</th>\n",
       "      <th>'Tis the Season for Love (2015)</th>\n",
       "      <th>'burbs, The (1989)</th>\n",
       "      <th>'night Mother (1986)</th>\n",
       "      <th>(500) Days of Summer (2009)</th>\n",
       "      <th>*batteries not included (1987)</th>\n",
       "      <th>...</th>\n",
       "      <th>Zulu (2013)</th>\n",
       "      <th>[REC] (2007)</th>\n",
       "      <th>[REC]² (2009)</th>\n",
       "      <th>[REC]³ 3 Génesis (2012)</th>\n",
       "      <th>anohana: The Flower We Saw That Day - The Movie (2013)</th>\n",
       "      <th>eXistenZ (1999)</th>\n",
       "      <th>xXx (2002)</th>\n",
       "      <th>xXx: State of the Union (2005)</th>\n",
       "      <th>¡Three Amigos! (1986)</th>\n",
       "      <th>À nous la liberté (Freedom for Us) (1931)</th>\n",
       "    </tr>\n",
       "    <tr>\n",
       "      <th>userId</th>\n",
       "      <th></th>\n",
       "      <th></th>\n",
       "      <th></th>\n",
       "      <th></th>\n",
       "      <th></th>\n",
       "      <th></th>\n",
       "      <th></th>\n",
       "      <th></th>\n",
       "      <th></th>\n",
       "      <th></th>\n",
       "      <th></th>\n",
       "      <th></th>\n",
       "      <th></th>\n",
       "      <th></th>\n",
       "      <th></th>\n",
       "      <th></th>\n",
       "      <th></th>\n",
       "      <th></th>\n",
       "      <th></th>\n",
       "      <th></th>\n",
       "      <th></th>\n",
       "    </tr>\n",
       "  </thead>\n",
       "  <tbody>\n",
       "    <tr>\n",
       "      <th>1</th>\n",
       "      <td>NaN</td>\n",
       "      <td>NaN</td>\n",
       "      <td>NaN</td>\n",
       "      <td>NaN</td>\n",
       "      <td>NaN</td>\n",
       "      <td>NaN</td>\n",
       "      <td>NaN</td>\n",
       "      <td>NaN</td>\n",
       "      <td>NaN</td>\n",
       "      <td>NaN</td>\n",
       "      <td>...</td>\n",
       "      <td>NaN</td>\n",
       "      <td>NaN</td>\n",
       "      <td>NaN</td>\n",
       "      <td>NaN</td>\n",
       "      <td>NaN</td>\n",
       "      <td>NaN</td>\n",
       "      <td>NaN</td>\n",
       "      <td>NaN</td>\n",
       "      <td>0.110765</td>\n",
       "      <td>NaN</td>\n",
       "    </tr>\n",
       "    <tr>\n",
       "      <th>2</th>\n",
       "      <td>NaN</td>\n",
       "      <td>NaN</td>\n",
       "      <td>NaN</td>\n",
       "      <td>NaN</td>\n",
       "      <td>NaN</td>\n",
       "      <td>NaN</td>\n",
       "      <td>NaN</td>\n",
       "      <td>NaN</td>\n",
       "      <td>NaN</td>\n",
       "      <td>NaN</td>\n",
       "      <td>...</td>\n",
       "      <td>NaN</td>\n",
       "      <td>NaN</td>\n",
       "      <td>NaN</td>\n",
       "      <td>NaN</td>\n",
       "      <td>NaN</td>\n",
       "      <td>NaN</td>\n",
       "      <td>NaN</td>\n",
       "      <td>NaN</td>\n",
       "      <td>NaN</td>\n",
       "      <td>NaN</td>\n",
       "    </tr>\n",
       "    <tr>\n",
       "      <th>3</th>\n",
       "      <td>NaN</td>\n",
       "      <td>NaN</td>\n",
       "      <td>NaN</td>\n",
       "      <td>NaN</td>\n",
       "      <td>NaN</td>\n",
       "      <td>NaN</td>\n",
       "      <td>NaN</td>\n",
       "      <td>NaN</td>\n",
       "      <td>NaN</td>\n",
       "      <td>NaN</td>\n",
       "      <td>...</td>\n",
       "      <td>NaN</td>\n",
       "      <td>NaN</td>\n",
       "      <td>NaN</td>\n",
       "      <td>NaN</td>\n",
       "      <td>NaN</td>\n",
       "      <td>NaN</td>\n",
       "      <td>NaN</td>\n",
       "      <td>NaN</td>\n",
       "      <td>NaN</td>\n",
       "      <td>NaN</td>\n",
       "    </tr>\n",
       "    <tr>\n",
       "      <th>4</th>\n",
       "      <td>NaN</td>\n",
       "      <td>NaN</td>\n",
       "      <td>NaN</td>\n",
       "      <td>NaN</td>\n",
       "      <td>NaN</td>\n",
       "      <td>NaN</td>\n",
       "      <td>NaN</td>\n",
       "      <td>NaN</td>\n",
       "      <td>NaN</td>\n",
       "      <td>NaN</td>\n",
       "      <td>...</td>\n",
       "      <td>NaN</td>\n",
       "      <td>NaN</td>\n",
       "      <td>NaN</td>\n",
       "      <td>NaN</td>\n",
       "      <td>NaN</td>\n",
       "      <td>NaN</td>\n",
       "      <td>NaN</td>\n",
       "      <td>NaN</td>\n",
       "      <td>NaN</td>\n",
       "      <td>NaN</td>\n",
       "    </tr>\n",
       "    <tr>\n",
       "      <th>5</th>\n",
       "      <td>NaN</td>\n",
       "      <td>NaN</td>\n",
       "      <td>NaN</td>\n",
       "      <td>NaN</td>\n",
       "      <td>NaN</td>\n",
       "      <td>NaN</td>\n",
       "      <td>NaN</td>\n",
       "      <td>NaN</td>\n",
       "      <td>NaN</td>\n",
       "      <td>NaN</td>\n",
       "      <td>...</td>\n",
       "      <td>NaN</td>\n",
       "      <td>NaN</td>\n",
       "      <td>NaN</td>\n",
       "      <td>NaN</td>\n",
       "      <td>NaN</td>\n",
       "      <td>NaN</td>\n",
       "      <td>NaN</td>\n",
       "      <td>NaN</td>\n",
       "      <td>NaN</td>\n",
       "      <td>NaN</td>\n",
       "    </tr>\n",
       "  </tbody>\n",
       "</table>\n",
       "<p>5 rows × 9719 columns</p>\n",
       "</div>"
      ],
      "text/plain": [
       "title   '71 (2014)  'Hellboy': The Seeds of Creation (2004)  \\\n",
       "userId                                                        \n",
       "1              NaN                                      NaN   \n",
       "2              NaN                                      NaN   \n",
       "3              NaN                                      NaN   \n",
       "4              NaN                                      NaN   \n",
       "5              NaN                                      NaN   \n",
       "\n",
       "title   'Round Midnight (1986)  'Salem's Lot (2004)  \\\n",
       "userId                                                \n",
       "1                          NaN                  NaN   \n",
       "2                          NaN                  NaN   \n",
       "3                          NaN                  NaN   \n",
       "4                          NaN                  NaN   \n",
       "5                          NaN                  NaN   \n",
       "\n",
       "title   'Til There Was You (1997)  'Tis the Season for Love (2015)  \\\n",
       "userId                                                               \n",
       "1                             NaN                              NaN   \n",
       "2                             NaN                              NaN   \n",
       "3                             NaN                              NaN   \n",
       "4                             NaN                              NaN   \n",
       "5                             NaN                              NaN   \n",
       "\n",
       "title   'burbs, The (1989)  'night Mother (1986)  (500) Days of Summer (2009)  \\\n",
       "userId                                                                          \n",
       "1                      NaN                   NaN                          NaN   \n",
       "2                      NaN                   NaN                          NaN   \n",
       "3                      NaN                   NaN                          NaN   \n",
       "4                      NaN                   NaN                          NaN   \n",
       "5                      NaN                   NaN                          NaN   \n",
       "\n",
       "title   *batteries not included (1987)  ...  Zulu (2013)  [REC] (2007)  \\\n",
       "userId                                  ...                              \n",
       "1                                  NaN  ...          NaN           NaN   \n",
       "2                                  NaN  ...          NaN           NaN   \n",
       "3                                  NaN  ...          NaN           NaN   \n",
       "4                                  NaN  ...          NaN           NaN   \n",
       "5                                  NaN  ...          NaN           NaN   \n",
       "\n",
       "title   [REC]² (2009)  [REC]³ 3 Génesis (2012)  \\\n",
       "userId                                           \n",
       "1                 NaN                      NaN   \n",
       "2                 NaN                      NaN   \n",
       "3                 NaN                      NaN   \n",
       "4                 NaN                      NaN   \n",
       "5                 NaN                      NaN   \n",
       "\n",
       "title   anohana: The Flower We Saw That Day - The Movie (2013)  \\\n",
       "userId                                                           \n",
       "1                                                     NaN        \n",
       "2                                                     NaN        \n",
       "3                                                     NaN        \n",
       "4                                                     NaN        \n",
       "5                                                     NaN        \n",
       "\n",
       "title   eXistenZ (1999)  xXx (2002)  xXx: State of the Union (2005)  \\\n",
       "userId                                                                \n",
       "1                   NaN         NaN                             NaN   \n",
       "2                   NaN         NaN                             NaN   \n",
       "3                   NaN         NaN                             NaN   \n",
       "4                   NaN         NaN                             NaN   \n",
       "5                   NaN         NaN                             NaN   \n",
       "\n",
       "title   ¡Three Amigos! (1986)  À nous la liberté (Freedom for Us) (1931)  \n",
       "userId                                                                    \n",
       "1                    0.110765                                        NaN  \n",
       "2                         NaN                                        NaN  \n",
       "3                         NaN                                        NaN  \n",
       "4                         NaN                                        NaN  \n",
       "5                         NaN                                        NaN  \n",
       "\n",
       "[5 rows x 9719 columns]"
      ]
     },
     "execution_count": 96,
     "metadata": {},
     "output_type": "execute_result"
    }
   ],
   "source": [
    "movies = data.pivot_table(index='userId', columns='title', values='rating')\n",
    "movies.head()"
   ]
  },
  {
   "cell_type": "markdown",
   "metadata": {},
   "source": [
    "Commençons par choisir un films. Nous supposerons que l'utilisateur a vu ce film.<br>\n",
    "Prenez celui que vous voulez !"
   ]
  },
  {
   "cell_type": "code",
   "execution_count": 97,
   "metadata": {},
   "outputs": [
    {
     "name": "stdout",
     "output_type": "stream",
     "text": [
      "                                    rating  number_of_ratings\n",
      "title                                                        \n",
      "Forrest Gump (1994)               0.147239                329\n",
      "Shawshank Redemption, The (1994)  0.206103                317\n",
      "Pulp Fiction (1994)               0.154558                307\n",
      "Silence of the Lambs, The (1991)  0.146607                279\n",
      "Matrix, The (1999)                0.153531                278\n"
     ]
    }
   ],
   "source": [
    "# Un apercu des films avec le plus de vues, vous devriez en reconnaitre queques uns !\n",
    "print(ratings.sort_values('number_of_ratings', ascending=False).head())\n",
    "\n",
    "# Choisissez-en un\n",
    "#movie1_name = 'The Diary of Anne Frank (1959)'\n",
    "movie1_name = 'Shrek (2001)'"
   ]
  },
  {
   "cell_type": "code",
   "execution_count": 98,
   "metadata": {},
   "outputs": [],
   "source": [
    "movie1 = movies[movie1_name]"
   ]
  },
  {
   "cell_type": "markdown",
   "metadata": {},
   "source": [
    "Nous allons maintenant devoir trouver le film qui est le plus aimé par les utilisateurs qui ont aimés ce films...<br>\n",
    "Et ca tombe bien, on a un super outil compris dans pandas, DataFrame.Corrwith() !"
   ]
  },
  {
   "cell_type": "code",
   "execution_count": 99,
   "metadata": {},
   "outputs": [
    {
     "data": {
      "text/plain": [
       "title\n",
       "Independence Day: Resurgence (2016)                         1.0\n",
       "Warriors of Heaven and Earth (Tian di ying xiong) (2003)    1.0\n",
       "Death Note (2017)                                           1.0\n",
       "Anywhere But Here (1999)                                    1.0\n",
       "Room, The (2003)                                            1.0\n",
       "dtype: float64"
      ]
     },
     "execution_count": 99,
     "metadata": {},
     "output_type": "execute_result"
    }
   ],
   "source": [
    "movie1_similar = movies.corrwith(movie1)\n",
    "movie1_similar = movie1_similar.sort_values(ascending=False)\n",
    "movie1_similar.sort_values(ascending=False).head()"
   ]
  },
  {
   "cell_type": "markdown",
   "metadata": {},
   "source": [
    "Nous allons maintenant formater notre liste de correlation afin de retirer les valeurs nulles"
   ]
  },
  {
   "cell_type": "code",
   "execution_count": 100,
   "metadata": {},
   "outputs": [],
   "source": [
    "corr_movie1 = pd.DataFrame(movie1_similar, columns=['Correlation'])\n",
    "corr_movie1 = corr_movie1.dropna()"
   ]
  },
  {
   "cell_type": "markdown",
   "metadata": {},
   "source": [
    "On commence a avoir des resultats !<br>\n",
    "<br>\n",
    "Mais comme on l'a vu tout a l'heure, notre database est fortement biaisée par le faible nombre d'avis sur beaucoup de films.<br>\n",
    "On va donc commencer par joindre la colonne 'number_of_ratings' a nos deux listes de correlations, puis nous ne tiendrons compte que des evaluations au dessus d'un certain nombre d'evaluations.<br>"
   ]
  },
  {
   "cell_type": "code",
   "execution_count": 101,
   "metadata": {},
   "outputs": [],
   "source": [
    "# Ajouter a chacune des listes la colonne 'number_of_ratings' du tableau ratings\n",
    "corr_movie1 = corr_movie1.join(ratings['number_of_ratings'])"
   ]
  },
  {
   "cell_type": "code",
   "execution_count": 102,
   "metadata": {},
   "outputs": [],
   "source": [
    "# Ne selectionner que les films avec plus de 50 avis, et les trier avec sort_values\n",
    "corr_movie1 = corr_movie1[corr_movie1['number_of_ratings'] > 50].sort_values(by='Correlation', ascending=False).head(10)"
   ]
  },
  {
   "cell_type": "code",
   "execution_count": 103,
   "metadata": {},
   "outputs": [
    {
     "data": {
      "text/plain": [
       "title\n",
       "Shrek 2 (2004)            0.821400\n",
       "Desperado (1995)          0.658700\n",
       "Finding Nemo (2003)       0.644980\n",
       "Dragonheart (1996)        0.636731\n",
       "Bug's Life, A (1998)      0.582808\n",
       "Monsters, Inc. (2001)     0.581781\n",
       "Airplane! (1980)          0.548393\n",
       "Pocahontas (1995)         0.547651\n",
       "Johnny Mnemonic (1995)    0.541857\n",
       "Name: Correlation, dtype: float64"
      ]
     },
     "execution_count": 103,
     "metadata": {},
     "output_type": "execute_result"
    }
   ],
   "source": [
    "i = corr_movie1['Correlation'][1:]\n",
    "i"
   ]
  },
  {
   "cell_type": "markdown",
   "metadata": {},
   "source": [
    "Reunissons tout ceci dans une fonction :"
   ]
  },
  {
   "cell_type": "code",
   "execution_count": 117,
   "metadata": {},
   "outputs": [],
   "source": [
    "import pandas as pd\n",
    "import numpy as np\n",
    "import matplotlib.pyplot as plt\n",
    "%matplotlib inline\n",
    "import seaborn as sns\n",
    "\n",
    "data = pd.read_csv('data/ratings.csv')\n",
    "movie_titles = pd.read_csv('data/Movies.csv')\n",
    "\n",
    "data = pd.merge(data, movie_titles, on='movieId')\n",
    "data['rating'] = (data['rating'] - data['rating'].mean()) / (data['rating'].max() - data['rating'].min())\n",
    "ratings = pd.DataFrame(data.groupby('title')['rating'].mean())\n",
    "ratings['number_of_ratings'] = data.groupby('title')['rating'].count()\n",
    "movies = data.pivot_table(index='userId', columns='title', values='rating')\n",
    "\n",
    "def test_prediction(tests):\n",
    "    for user in tests:\n",
    "        pref = dict(movies.iloc[user].dropna())\n",
    "        films = []\n",
    "        for movie in pref:\n",
    "            films.append(movie)\n",
    "        test = films[0]\n",
    "        films.remove(films[0])\n",
    "        guess = recommender_system(films, 50)\n",
    "        print(test, guess)\n",
    "\n",
    "def best_recommendation(recc):\n",
    "    max_value = 0.0\n",
    "    max_title = ''\n",
    "    for i in recc:\n",
    "        if (float(recc[i]) >= float(max_value)):\n",
    "            max_value = recc[i]\n",
    "            max_title = i\n",
    "    genre = np.unique(data['genres'][data['title'] == max_title])\n",
    "    print(max_title, max_value, genre)\n",
    "    return max_title\n",
    "\n",
    "def recommender_system(title_list, confiance):\n",
    "    \n",
    "    recommendation = dict(np.transpose([list(movie_titles['title']), np.zeros(len(movie_titles['title']))]))\n",
    "    \n",
    "    step = 0\n",
    "    tot_films = len(title_list)\n",
    "    \n",
    "    for title in title_list:\n",
    "        \n",
    "        movie = movies[title]\n",
    "        movie_similar = movies.corrwith(movie)\n",
    "        corr_movie = pd.DataFrame(movie_similar, columns=['Correlation']).dropna()\n",
    "        corr_movie = corr_movie.join(ratings['number_of_ratings'])\n",
    "        corr_movie = corr_movie[corr_movie['number_of_ratings'] > confiance].sort_values(by='Correlation', ascending=False)\n",
    "        corr_movie = dict(corr_movie[1:]['Correlation'])\n",
    "        \n",
    "        step += 1\n",
    "        print(\"Analised : %s (%d out of %d)\" % (title, step, tot_films))\n",
    "        \n",
    "        for title in corr_movie:\n",
    "            recommendation[title] = (float(corr_movie[title]) + float(recommendation[title])) / 2\n",
    "    \n",
    "    print(\"Done !\")\n",
    "    return best_recommendation(recommendation)\n"
   ]
  },
  {
   "cell_type": "code",
   "execution_count": null,
   "metadata": {},
   "outputs": [
    {
     "name": "stdout",
     "output_type": "stream",
     "text": [
      "Analised : Alien Contamination (1980) (1 out of 38)\n",
      "Analised : Android (1982) (2 out of 38)\n",
      "Analised : Bambi (1942) (3 out of 38)\n",
      "Analised : Clonus Horror, The (1979) (4 out of 38)\n",
      "Analised : Conan the Barbarian (1982) (5 out of 38)\n",
      "Analised : Courage Under Fire (1996) (6 out of 38)\n",
      "Analised : Dangerous Minds (1995) (7 out of 38)\n",
      "Analised : Death Race 2000 (1975) (8 out of 38)\n",
      "Analised : Deer Hunter, The (1978) (9 out of 38)\n",
      "Analised : Doors, The (1991) (10 out of 38)\n",
      "Analised : Escape from L.A. (1996) (11 out of 38)\n",
      "Analised : Fast Times at Ridgemont High (1982) (12 out of 38)\n",
      "Analised : Field of Dreams (1989) (13 out of 38)\n",
      "Analised : Galaxy of Terror (Quest) (1981) (14 out of 38)\n",
      "Analised : Green Card (1990) (15 out of 38)\n",
      "Analised : Hangar 18 (1980) (16 out of 38)\n",
      "Analised : Highlander (1986) (17 out of 38)\n",
      "Analised : Lady and the Tramp (1955) (18 out of 38)\n",
      "Analised : Looker (1981) (19 out of 38)\n",
      "Analised : Master of the Flying Guillotine (Du bi quan wang da po xue di zi) (1975) (20 out of 38)\n",
      "Analised : My Fair Lady (1964) (21 out of 38)\n",
      "Analised : On Golden Pond (1981) (22 out of 38)\n",
      "Analised : Operation Dumbo Drop (1995) (23 out of 38)\n",
      "Analised : Patton (1970) (24 out of 38)\n",
      "Analised : Piranha (1978) (25 out of 38)\n",
      "Analised : Requiem for a Dream (2000) (26 out of 38)\n",
      "Analised : Rescuers, The (1977) (27 out of 38)\n",
      "Analised : Road Warrior, The (Mad Max 2) (1981) (28 out of 38)\n",
      "Analised : Saturn 3 (1980) (29 out of 38)\n",
      "Analised : Schindler's List (1993) (30 out of 38)\n",
      "Analised : Snow Dogs (2002) (31 out of 38)\n",
      "Analised : Star Trek: The Motion Picture (1979) (32 out of 38)\n",
      "Analised : The Lair of the White Worm (1988) (33 out of 38)\n",
      "Analised : Thing, The (1982) (34 out of 38)\n",
      "Analised : Troll 2 (1990) (35 out of 38)\n",
      "Analised : Tron (1982) (36 out of 38)\n",
      "Analised : Wallace & Gromit: The Best of Aardman Animation (1996) (37 out of 38)\n",
      "Analised : You've Got Mail (1998) (38 out of 38)\n",
      "Done !\n",
      "Field of Dreams (1989) 0.684947924635797 ['Children|Drama|Fantasy']\n",
      "2012 (2009) Field of Dreams (1989)\n",
      "Analised : Any Given Sunday (1999) (1 out of 45)\n",
      "Analised : Austin Powers in Goldmember (2002) (2 out of 45)\n",
      "Analised : Back to the Future (1985) (3 out of 45)\n",
      "Analised : Back to the Future Part II (1989) (4 out of 45)\n",
      "Analised : Back to the Future Part III (1990) (5 out of 45)\n",
      "Analised : Blind Date (1984) (6 out of 45)\n",
      "Analised : Body of Evidence (1993) (7 out of 45)\n",
      "Analised : Citizen Kane (1941) (8 out of 45)\n",
      "Analised : Clerks (1994) (9 out of 45)\n",
      "Analised : Die Another Day (2002) (10 out of 45)\n",
      "Analised : Duellists, The (1977) (11 out of 45)\n",
      "Analised : Elling (2001) (12 out of 45)\n",
      "Analised : Gangs of New York (2002) (13 out of 45)\n",
      "Analised : Ghost Dog: The Way of the Samurai (1999) (14 out of 45)\n",
      "Analised : Glengarry Glen Ross (1992) (15 out of 45)\n",
      "Analised : Godfather: Part III, The (1990) (16 out of 45)\n",
      "Analised : I Spit on Your Grave (Day of the Woman) (1978) (17 out of 45)\n",
      "Analised : Ice Age (2002) (18 out of 45)\n",
      "Analised : King of Comedy, The (1983) (19 out of 45)\n",
      "Analised : Last Seduction, The (1994) (20 out of 45)\n",
      "Analised : Last Supper, The (1995) (21 out of 45)\n",
      "Analised : Lawnmower Man, The (1992) (22 out of 45)\n",
      "Analised : Lord of the Rings: The Fellowship of the Ring, The (2001) (23 out of 45)\n",
      "Analised : Lord of the Rings: The Two Towers, The (2002) (24 out of 45)\n",
      "Analised : Making Mr. Right (1987) (25 out of 45)\n",
      "Analised : Minority Report (2002) (26 out of 45)\n",
      "Analised : Paper, The (1994) (27 out of 45)\n",
      "Analised : Party Girl (1995) (28 out of 45)\n",
      "Analised : Phantasm (1979) (29 out of 45)\n",
      "Analised : Producers, The (1968) (30 out of 45)\n",
      "Analised : Prom Night (1980) (31 out of 45)\n",
      "Analised : Pumpkin (2002) (32 out of 45)\n",
      "Analised : Quicksilver (1986) (33 out of 45)\n",
      "Analised : Raiders of the Lost Ark (Indiana Jones and the Raiders of the Lost Ark) (1981) (34 out of 45)\n",
      "Analised : Return to the Blue Lagoon (1991) (35 out of 45)\n",
      "Analised : Richard III (1995) (36 out of 45)\n",
      "Analised : Serpico (1973) (37 out of 45)\n",
      "Analised : Star Wars: Episode II - Attack of the Clones (2002) (38 out of 45)\n",
      "Analised : Sunset Blvd. (a.k.a. Sunset Boulevard) (1950) (39 out of 45)\n",
      "Analised : Sunshine State (2002) (40 out of 45)\n",
      "Analised : Tommy (1975) (41 out of 45)\n",
      "Analised : Toy Soldiers (1991) (42 out of 45)\n",
      "Analised : Twins (1988) (43 out of 45)\n",
      "Analised : Witness (1985) (44 out of 45)\n",
      "Analised : xXx (2002) (45 out of 45)\n",
      "Done !\n",
      "Interstellar (2014) 0.8030371006405537 ['Sci-Fi|IMAX']\n",
      "Adaptation (2002) Interstellar (2014)\n",
      "Analised : Aristocats, The (1970) (1 out of 44)\n",
      "Analised : Birdcage, The (1996) (2 out of 44)\n",
      "Analised : Broken Arrow (1996) (3 out of 44)\n",
      "Analised : Casino (1995) (4 out of 44)\n",
      "Analised : Courage Under Fire (1996) (5 out of 44)\n",
      "Analised : Cutthroat Island (1995) (6 out of 44)\n",
      "Analised : Dead Man Walking (1995) (7 out of 44)\n",
      "Analised : Down Periscope (1996) (8 out of 44)\n",
      "Analised : Escape from L.A. (1996) (9 out of 44)\n",
      "Analised : Executive Decision (1996) (10 out of 44)\n",
      "Analised : Eye for an Eye (1996) (11 out of 44)\n",
      "Analised : Father of the Bride Part II (1995) (12 out of 44)\n",
      "Analised : Fear (1996) (13 out of 44)\n",
      "Analised : Four Rooms (1995) (14 out of 44)\n",
      "Analised : Get Shorty (1995) (15 out of 44)\n",
      "Analised : GoldenEye (1995) (16 out of 44)\n",
      "Analised : Grumpier Old Men (1995) (17 out of 44)\n",
      "Analised : Heat (1995) (18 out of 44)\n",
      "Analised : Heavy Metal (1981) (19 out of 44)\n",
      "Analised : Independence Day (a.k.a. ID4) (1996) (20 out of 44)\n",
      "Analised : James and the Giant Peach (1996) (21 out of 44)\n",
      "Analised : Jumanji (1995) (22 out of 44)\n",
      "Analised : Leaving Las Vegas (1995) (23 out of 44)\n",
      "Analised : Misérables, Les (1995) (24 out of 44)\n",
      "Analised : Money Train (1995) (25 out of 44)\n",
      "Analised : Mr. Holland's Opus (1995) (26 out of 44)\n",
      "Analised : Mulholland Falls (1996) (27 out of 44)\n",
      "Analised : Now and Then (1995) (28 out of 44)\n",
      "Analised : Oliver & Company (1988) (29 out of 44)\n",
      "Analised : Primal Fear (1996) (30 out of 44)\n"
     ]
    }
   ],
   "source": [
    "test_prediction([2, 8, 500])"
   ]
  },
  {
   "cell_type": "markdown",
   "metadata": {},
   "source": [
    "Sources : <br>\n",
    "https://fr.wikipedia.org/wiki/Syst%C3%A8me_de_recommandation<br>\n",
    "https://www.podcastscience.fm/dossiers/2012/04/25/les-algorithmes-de-recommandation/<br>\n",
    "https://www.analyticsvidhya.com/blog/2018/06/comprehensive-guide-recommendation-engine-python/<br>\n",
    "https://towardsdatascience.com/how-to-build-a-simple-recommender-system-in-python-375093c3fb7d<br>\n",
    "            "
   ]
  },
  {
   "cell_type": "code",
   "execution_count": null,
   "metadata": {},
   "outputs": [],
   "source": []
  }
 ],
 "metadata": {
  "celltoolbar": "Format de la Cellule Texte Brut",
  "kernelspec": {
   "display_name": "Python 3",
   "language": "python",
   "name": "python3"
  },
  "language_info": {
   "codemirror_mode": {
    "name": "ipython",
    "version": 3
   },
   "file_extension": ".py",
   "mimetype": "text/x-python",
   "name": "python",
   "nbconvert_exporter": "python",
   "pygments_lexer": "ipython3",
   "version": "3.7.1"
  }
 },
 "nbformat": 4,
 "nbformat_minor": 2
}
